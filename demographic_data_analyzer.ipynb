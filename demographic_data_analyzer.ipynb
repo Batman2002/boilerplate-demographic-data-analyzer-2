{
  "nbformat": 4,
  "nbformat_minor": 0,
  "metadata": {
    "colab": {
      "name": "demographic data analyzer.ipynb",
      "provenance": [],
      "authorship_tag": "ABX9TyNETalU7ayCYxrCz7svl7h6",
      "include_colab_link": true
    },
    "kernelspec": {
      "name": "python3",
      "display_name": "Python 3"
    },
    "language_info": {
      "name": "python"
    }
  },
  "cells": [
    {
      "cell_type": "markdown",
      "metadata": {
        "id": "view-in-github",
        "colab_type": "text"
      },
      "source": [
        "<a href=\"https://colab.research.google.com/github/Batman2002/boilerplate-demographic-data-analyzer-2/blob/main/demographic_data_analyzer.ipynb\" target=\"_parent\"><img src=\"https://colab.research.google.com/assets/colab-badge.svg\" alt=\"Open In Colab\"/></a>"
      ]
    },
    {
      "cell_type": "code",
      "execution_count": 60,
      "metadata": {
        "colab": {
          "base_uri": "https://localhost:8080/"
        },
        "id": "veUQW4YOlpcH",
        "outputId": "38d3bd21-db9f-4210-8478-63bc9a5d3957"
      },
      "outputs": [
        {
          "output_type": "execute_result",
          "data": {
            "text/plain": [
              "{'index': {'Amer-Indian-Eskimo': 311,\n",
              "  'Asian-Pac-Islander': 1039,\n",
              "  'Black': 3124,\n",
              "  'Other': 271,\n",
              "  'White': 27816}}"
            ]
          },
          "metadata": {},
          "execution_count": 60
        }
      ],
      "source": [
        "import pandas as pd\n",
        "import numpy as np\n",
        "\n",
        "\n",
        "df =pd.read_csv(\"adult.data.csv\")\n",
        "# df.groupby(\"sex\").mean()\n",
        "# df.count(numeric_only=True)\n",
        "# index=np.arrange(1,32562)/\n",
        "df[\"index\"]=1\n",
        "df=df.filter(items=[\"race\",\"index\"])\n",
        "df=df.groupby(\"race\").sum()\n",
        "# df\n",
        "df.to_dict()\n",
        "# df.value_counts()\n",
        "# df.to_dict()\n",
        "# df\n",
        "# df[df.duplicated()]"
      ]
    },
    {
      "cell_type": "code",
      "source": [
        "from google.colab import drive\n",
        "drive.mount('/content/drive')"
      ],
      "metadata": {
        "id": "uBeR0oatmexu"
      },
      "execution_count": null,
      "outputs": []
    }
  ]
}