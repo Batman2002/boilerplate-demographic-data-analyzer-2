{
  "nbformat": 4,
  "nbformat_minor": 0,
  "metadata": {
    "colab": {
      "name": "demographic data analyzer.ipynb",
      "provenance": [],
      "authorship_tag": "ABX9TyP55thBswtI8sS1WYWa++9b",
      "include_colab_link": true
    },
    "kernelspec": {
      "name": "python3",
      "display_name": "Python 3"
    },
    "language_info": {
      "name": "python"
    }
  },
  "cells": [
    {
      "cell_type": "markdown",
      "metadata": {
        "id": "view-in-github",
        "colab_type": "text"
      },
      "source": [
        "<a href=\"https://colab.research.google.com/github/Batman2002/boilerplate-demographic-data-analyzer-2/blob/main/demographic_data_analyzer.ipynb\" target=\"_parent\"><img src=\"https://colab.research.google.com/assets/colab-badge.svg\" alt=\"Open In Colab\"/></a>"
      ]
    },
    {
      "cell_type": "code",
      "execution_count": 167,
      "metadata": {
        "colab": {
          "base_uri": "https://localhost:8080/"
        },
        "id": "veUQW4YOlpcH",
        "outputId": "f0105a19-075b-4f63-c523-28401cf1ced1"
      },
      "outputs": [
        {
          "output_type": "execute_result",
          "data": {
            "text/plain": [
              "array([  311,  1039,  3124,   271, 27816])"
            ]
          },
          "metadata": {},
          "execution_count": 167
        }
      ],
      "source": [
        "import pandas as pd\n",
        "import numpy as np\n",
        "\n",
        "\n",
        "df =pd.read_csv(\"adult.data.csv\")\n",
        "# df.groupby(\"sex\").mean()\n",
        "# df.count(numeric_only=True)\n",
        "# index=np.arrange(1,32562)/\n",
        "df[\"index\"]=1\n",
        "df=df.filter(items=[\"race\",\"index\"])\n",
        "df=df.groupby(\"race\").sum()\n",
        "df\n",
        "df=df.to_dict()\n",
        "arr=[]\n",
        "for i in df.values():\n",
        "  for j in i.values():\n",
        "    arr.append(j)\n",
        "arr2=np.array(arr)\n",
        "arr2\n",
        "# print(race_count)\n",
        "# df\n",
        "# df.value_counts()\n",
        "# df.to_dict()\n",
        "# df\n",
        "# df[df.duplicated()]"
      ]
    },
    {
      "cell_type": "code",
      "source": [
        "df=pd.read_csv(\"adult.data.csv\")\n",
        "# size=len((df))\n",
        "# print(size)\n",
        "df[\"index\"]=1\n",
        "df=df.filter(items=[\"education\",\"index\"])\n",
        "df=df.groupby(\"education\").sum()\n",
        "# df\n",
        "# df=df.to_dict()\n",
        "# df\n",
        "# (df[\"index\"][\"Bachelors\"]/size)*100"
      ],
      "metadata": {
        "id": "Xh04ndG2XP72",
        "outputId": "94c37877-d66b-45f1-b76d-62c7e77a1599",
        "colab": {
          "base_uri": "https://localhost:8080/"
        }
      },
      "execution_count": 7,
      "outputs": [
        {
          "output_type": "stream",
          "name": "stdout",
          "text": [
            "32561\n"
          ]
        }
      ]
    },
    {
      "cell_type": "code",
      "source": [
        "df=pd.read_csv(\"adult.data.csv\",index_col=\"salary\")\n",
        "df2=pd.read_csv(\"adult.data.csv\",index_col=\"salary\")\n",
        "df[\"index\"]=1\n",
        "df=df.filter(items=[\"salary\",\"education\",\"index\"])\n",
        "df=df.groupby(\"education\").sum()\n",
        "size2=df[\"index\"][\"Bachelors\"] + df[\"index\"][\"Masters\"] + df[\"index\"][\"Doctorate\"]\n",
        "df2[\"index\"]=1\n",
        "df2=df2.filter(items=[\"salary\",\"education\",\"index\"])\n",
        "df2=df2.drop(index=\"<=50K\")\n",
        "df2=df2.groupby(\"education\").sum()\n",
        "print(size2)\n",
        "print(df2[\"index\"][\"Bachelors\"] + df2[\"index\"][\"Masters\"] + df2[\"index\"][\"Doctorate\"])\n",
        "print(((df2[\"index\"][\"Bachelors\"] + df2[\"index\"][\"Masters\"] + df2[\"index\"][\"Doctorate\"])/size2)*100)\n",
        "# df.to_dict()\n",
        "# df\n",
        "df2"
      ],
      "metadata": {
        "id": "oJRqLUY4eFEd",
        "outputId": "31161da6-2458-4133-8227-26fcc6dcd58c",
        "colab": {
          "base_uri": "https://localhost:8080/",
          "height": 603
        }
      },
      "execution_count": null,
      "outputs": [
        {
          "output_type": "stream",
          "name": "stdout",
          "text": [
            "7491\n",
            "3486\n",
            "46.535843011613935\n"
          ]
        },
        {
          "output_type": "execute_result",
          "data": {
            "text/plain": [
              "              index\n",
              "education          \n",
              "10th             62\n",
              "11th             60\n",
              "12th             33\n",
              "1st-4th           6\n",
              "5th-6th          16\n",
              "7th-8th          40\n",
              "9th              27\n",
              "Assoc-acdm      265\n",
              "Assoc-voc       361\n",
              "Bachelors      2221\n",
              "Doctorate       306\n",
              "HS-grad        1675\n",
              "Masters         959\n",
              "Prof-school     423\n",
              "Some-college   1387"
            ],
            "text/html": [
              "\n",
              "  <div id=\"df-48b480d8-36b7-42f6-8846-70c6fed16a2d\">\n",
              "    <div class=\"colab-df-container\">\n",
              "      <div>\n",
              "<style scoped>\n",
              "    .dataframe tbody tr th:only-of-type {\n",
              "        vertical-align: middle;\n",
              "    }\n",
              "\n",
              "    .dataframe tbody tr th {\n",
              "        vertical-align: top;\n",
              "    }\n",
              "\n",
              "    .dataframe thead th {\n",
              "        text-align: right;\n",
              "    }\n",
              "</style>\n",
              "<table border=\"1\" class=\"dataframe\">\n",
              "  <thead>\n",
              "    <tr style=\"text-align: right;\">\n",
              "      <th></th>\n",
              "      <th>index</th>\n",
              "    </tr>\n",
              "    <tr>\n",
              "      <th>education</th>\n",
              "      <th></th>\n",
              "    </tr>\n",
              "  </thead>\n",
              "  <tbody>\n",
              "    <tr>\n",
              "      <th>10th</th>\n",
              "      <td>62</td>\n",
              "    </tr>\n",
              "    <tr>\n",
              "      <th>11th</th>\n",
              "      <td>60</td>\n",
              "    </tr>\n",
              "    <tr>\n",
              "      <th>12th</th>\n",
              "      <td>33</td>\n",
              "    </tr>\n",
              "    <tr>\n",
              "      <th>1st-4th</th>\n",
              "      <td>6</td>\n",
              "    </tr>\n",
              "    <tr>\n",
              "      <th>5th-6th</th>\n",
              "      <td>16</td>\n",
              "    </tr>\n",
              "    <tr>\n",
              "      <th>7th-8th</th>\n",
              "      <td>40</td>\n",
              "    </tr>\n",
              "    <tr>\n",
              "      <th>9th</th>\n",
              "      <td>27</td>\n",
              "    </tr>\n",
              "    <tr>\n",
              "      <th>Assoc-acdm</th>\n",
              "      <td>265</td>\n",
              "    </tr>\n",
              "    <tr>\n",
              "      <th>Assoc-voc</th>\n",
              "      <td>361</td>\n",
              "    </tr>\n",
              "    <tr>\n",
              "      <th>Bachelors</th>\n",
              "      <td>2221</td>\n",
              "    </tr>\n",
              "    <tr>\n",
              "      <th>Doctorate</th>\n",
              "      <td>306</td>\n",
              "    </tr>\n",
              "    <tr>\n",
              "      <th>HS-grad</th>\n",
              "      <td>1675</td>\n",
              "    </tr>\n",
              "    <tr>\n",
              "      <th>Masters</th>\n",
              "      <td>959</td>\n",
              "    </tr>\n",
              "    <tr>\n",
              "      <th>Prof-school</th>\n",
              "      <td>423</td>\n",
              "    </tr>\n",
              "    <tr>\n",
              "      <th>Some-college</th>\n",
              "      <td>1387</td>\n",
              "    </tr>\n",
              "  </tbody>\n",
              "</table>\n",
              "</div>\n",
              "      <button class=\"colab-df-convert\" onclick=\"convertToInteractive('df-48b480d8-36b7-42f6-8846-70c6fed16a2d')\"\n",
              "              title=\"Convert this dataframe to an interactive table.\"\n",
              "              style=\"display:none;\">\n",
              "        \n",
              "  <svg xmlns=\"http://www.w3.org/2000/svg\" height=\"24px\"viewBox=\"0 0 24 24\"\n",
              "       width=\"24px\">\n",
              "    <path d=\"M0 0h24v24H0V0z\" fill=\"none\"/>\n",
              "    <path d=\"M18.56 5.44l.94 2.06.94-2.06 2.06-.94-2.06-.94-.94-2.06-.94 2.06-2.06.94zm-11 1L8.5 8.5l.94-2.06 2.06-.94-2.06-.94L8.5 2.5l-.94 2.06-2.06.94zm10 10l.94 2.06.94-2.06 2.06-.94-2.06-.94-.94-2.06-.94 2.06-2.06.94z\"/><path d=\"M17.41 7.96l-1.37-1.37c-.4-.4-.92-.59-1.43-.59-.52 0-1.04.2-1.43.59L10.3 9.45l-7.72 7.72c-.78.78-.78 2.05 0 2.83L4 21.41c.39.39.9.59 1.41.59.51 0 1.02-.2 1.41-.59l7.78-7.78 2.81-2.81c.8-.78.8-2.07 0-2.86zM5.41 20L4 18.59l7.72-7.72 1.47 1.35L5.41 20z\"/>\n",
              "  </svg>\n",
              "      </button>\n",
              "      \n",
              "  <style>\n",
              "    .colab-df-container {\n",
              "      display:flex;\n",
              "      flex-wrap:wrap;\n",
              "      gap: 12px;\n",
              "    }\n",
              "\n",
              "    .colab-df-convert {\n",
              "      background-color: #E8F0FE;\n",
              "      border: none;\n",
              "      border-radius: 50%;\n",
              "      cursor: pointer;\n",
              "      display: none;\n",
              "      fill: #1967D2;\n",
              "      height: 32px;\n",
              "      padding: 0 0 0 0;\n",
              "      width: 32px;\n",
              "    }\n",
              "\n",
              "    .colab-df-convert:hover {\n",
              "      background-color: #E2EBFA;\n",
              "      box-shadow: 0px 1px 2px rgba(60, 64, 67, 0.3), 0px 1px 3px 1px rgba(60, 64, 67, 0.15);\n",
              "      fill: #174EA6;\n",
              "    }\n",
              "\n",
              "    [theme=dark] .colab-df-convert {\n",
              "      background-color: #3B4455;\n",
              "      fill: #D2E3FC;\n",
              "    }\n",
              "\n",
              "    [theme=dark] .colab-df-convert:hover {\n",
              "      background-color: #434B5C;\n",
              "      box-shadow: 0px 1px 3px 1px rgba(0, 0, 0, 0.15);\n",
              "      filter: drop-shadow(0px 1px 2px rgba(0, 0, 0, 0.3));\n",
              "      fill: #FFFFFF;\n",
              "    }\n",
              "  </style>\n",
              "\n",
              "      <script>\n",
              "        const buttonEl =\n",
              "          document.querySelector('#df-48b480d8-36b7-42f6-8846-70c6fed16a2d button.colab-df-convert');\n",
              "        buttonEl.style.display =\n",
              "          google.colab.kernel.accessAllowed ? 'block' : 'none';\n",
              "\n",
              "        async function convertToInteractive(key) {\n",
              "          const element = document.querySelector('#df-48b480d8-36b7-42f6-8846-70c6fed16a2d');\n",
              "          const dataTable =\n",
              "            await google.colab.kernel.invokeFunction('convertToInteractive',\n",
              "                                                     [key], {});\n",
              "          if (!dataTable) return;\n",
              "\n",
              "          const docLinkHtml = 'Like what you see? Visit the ' +\n",
              "            '<a target=\"_blank\" href=https://colab.research.google.com/notebooks/data_table.ipynb>data table notebook</a>'\n",
              "            + ' to learn more about interactive tables.';\n",
              "          element.innerHTML = '';\n",
              "          dataTable['output_type'] = 'display_data';\n",
              "          await google.colab.output.renderOutput(dataTable, element);\n",
              "          const docLink = document.createElement('div');\n",
              "          docLink.innerHTML = docLinkHtml;\n",
              "          element.appendChild(docLink);\n",
              "        }\n",
              "      </script>\n",
              "    </div>\n",
              "  </div>\n",
              "  "
            ]
          },
          "metadata": {},
          "execution_count": 135
        }
      ]
    },
    {
      "cell_type": "code",
      "source": [
        "df=pd.read_csv(\"adult.data.csv\",index_col=\"salary\")\n",
        "df2=pd.read_csv(\"adult.data.csv\",index_col=\"salary\")\n",
        "df=df.filter(items=[\"native-country\",\"salary\"])\n",
        "df2=df2.filter(items=[\"native-country\"])\n",
        "df[\"index\"]=1\n",
        "df2[\"index\"]=1\n",
        "df=df.drop(index=\"<=50K\")\n",
        "df=df.groupby(\"native-country\").sum()\n",
        "df2=df2.groupby(\"native-country\").sum()\n",
        "# df\n",
        "# df2\n",
        "df=(df/df2)*100\n",
        "# df.to_dict()\n",
        "# df.loc[lambda df: df['index'] == df.max()]\n",
        "# d\n",
        "# df.set_index(['index'])\n",
        "df=df.sort_values('index',ascending=False)\n",
        "df=df.to_dict()\n",
        "\n",
        "# df.idxmax()\n",
        "# df.values()\n",
        "df\n",
        "# for i in df:\n",
        "#   for j,k in i:\n",
        "#     print(j)\n",
        "for i in df.values():\n",
        "  # print(i)\n",
        "  for j in i:\n",
        "    # print(j)\n",
        "    a=j\n",
        "    break\n",
        "  # brak\n",
        "  print(a)\n",
        "  print(df['index'][a])\n",
        "  "
      ],
      "metadata": {
        "id": "j45UqZN1sVTr",
        "outputId": "35c4f0a9-4903-439f-843a-2ab37a3aa0d0",
        "colab": {
          "base_uri": "https://localhost:8080/"
        }
      },
      "execution_count": 196,
      "outputs": [
        {
          "output_type": "stream",
          "name": "stdout",
          "text": [
            "Iran\n",
            "41.86046511627907\n"
          ]
        }
      ]
    },
    {
      "cell_type": "code",
      "source": [
        "df=pd.read_csv(\"adult.data.csv\",index_col=\"salary\")\n",
        "df=df.filter(items=[\"occupation\",\"native-country\",\"salary\"])\n",
        "df=df.drop(index=\"<=50K\")\n",
        "df=df.set_index(['native-country'])\n",
        "df=df.loc[\"India\"]\n",
        "df[\"index\"]=1\n",
        "df=df.set_index(['occupation'])\n",
        "df=df.groupby(\"occupation\").sum()\n",
        "df=df.sort_values('index',ascending=False)\n",
        "df=df.to_dict()\n",
        "for i in df.values():\n",
        "  for j in i:\n",
        "    print(j)\n",
        "    break"
      ],
      "metadata": {
        "id": "q22AqX58Ll7W",
        "outputId": "25a655b8-f777-49ba-a7d4-a3dfd4fc4f53",
        "colab": {
          "base_uri": "https://localhost:8080/"
        }
      },
      "execution_count": 149,
      "outputs": [
        {
          "output_type": "stream",
          "name": "stdout",
          "text": [
            "Prof-specialty\n"
          ]
        }
      ]
    },
    {
      "cell_type": "code",
      "source": [
        "df=pd.read_csv(\"adult.data.csv\",index_col=\"salary\")\n",
        "df2=pd.read_csv(\"adult.data.csv\",index_col=\"salary\")\n",
        "df[\"index\"]=1\n",
        "df=df.filter(items=[\"salary\",\"education\",\"index\"])\n",
        "df=df.groupby(\"education\").sum()\n",
        "# size2=df[\"index\"][\"Bachelors\"] + df[\"index\"][\"Masters\"] + df[\"index\"][\"Doctorate\"]\n",
        "df2[\"index\"]=1\n",
        "df2=df2.filter(items=[\"salary\",\"education\",\"index\"])\n",
        "df2=df2.drop(index=\"<=50K\")\n",
        "df2=df2.groupby(\"education\").sum()\n",
        "# print(size2)\n",
        "# print(df2[\"index\"][\"Bachelors\"] + df2[\"index\"][\"Masters\"] + df2[\"index\"][\"Doctorate\"])\n",
        "# print(((df2[\"index\"][\"Bachelors\"] + df2[\"index\"][\"Masters\"] + df2[\"index\"][\"Doctorate\"])/size2)*100)\n",
        "# df.to_dict()\n",
        "# df\n",
        "df2=df2.drop(index=[\"Bachelors\",\"Doctorate\",\"Masters\"])\n",
        "df=df.drop(index=[\"Bachelors\",\"Doctorate\",\"Masters\"])\n",
        "df=df.sum()\n",
        "df2=df2.sum()\n",
        "df.to_dict()\n",
        "df2.to_dict()\n",
        "a=(df2['index']/df['index'])*100\n",
        "print(a)"
      ],
      "metadata": {
        "id": "gPY7CzX_QqrY",
        "outputId": "bb6e6be7-0923-45b9-a61e-d3035219bbf7",
        "colab": {
          "base_uri": "https://localhost:8080/"
        }
      },
      "execution_count": 183,
      "outputs": [
        {
          "output_type": "stream",
          "name": "stdout",
          "text": [
            "17.3713601914639\n"
          ]
        }
      ]
    },
    {
      "cell_type": "code",
      "source": [
        "df=pd.read_csv(\"adult.data.csv\",index_col=\"salary\")\n",
        "df2=pd.read_csv(\"adult.data.csv\",index_col=\"salary\")\n",
        "df=df.filter(items=[\"hours-per-week\"])\n",
        "df2=df2.filter(items=[\"hours-per-week\"])\n",
        "# df=df.min()\n",
        "# df=df.to_dict()\n",
        "df=df.drop(index='<=50K')\n",
        "df2=df2.set_index('hours-per-week')\n",
        "df2=df2.loc[1]\n",
        "# df.loc[df.min()]\n",
        "df=df.set_index('hours-per-week')\n",
        "df=df.loc[1]\n",
        "# df2\n",
        "# d\\f\n",
        "len(df2)"
      ],
      "metadata": {
        "id": "kMwH3_JOXq7F",
        "outputId": "8be44742-dca4-4f80-db48-5ef580c9e04f",
        "colab": {
          "base_uri": "https://localhost:8080/"
        }
      },
      "execution_count": 226,
      "outputs": [
        {
          "output_type": "execute_result",
          "data": {
            "text/plain": [
              "20"
            ]
          },
          "metadata": {},
          "execution_count": 226
        }
      ]
    }
  ]
}